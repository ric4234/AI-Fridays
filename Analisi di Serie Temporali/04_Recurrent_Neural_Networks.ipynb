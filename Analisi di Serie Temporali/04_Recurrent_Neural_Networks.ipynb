{
  "cells": [
    {
      "cell_type": "markdown",
      "metadata": {
        "id": "9EuzaOQns_-f"
      },
      "source": [
        "<a href=\"https://colab.research.google.com/github/ric4234/AI-Fridays/blob/main/Analisi%20di%20Serie%20Temporali/04_Recurrent_Neural_Networks.ipynb\" target=\"_parent\\\"><img src=\"https://colab.research.google.com/assets/colab-badge.svg\" alt=\"Open In Colab\"/></a>"
      ]
    },
    {
      "cell_type": "markdown",
      "source": [
        "\n",
        "## Neural Networks - Recurrent Neural Networks using SimpleRNN and GRU\n",
        "\n",
        "![image.png](data:image/png;base64,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)\n",
        "\n",
        "The difference in the RNN block is that there is a feedback loop. Where each input of a fully connected network is completely\n",
        "independent, the inputs of an RNN have a feedback relation with each other. This makes the model good to fit data that has sequences, like Times series or written text.\n",
        "Due to this architecture difference, there is not just one input in each unit, but there are two.\n",
        "\n",
        "Also, the tanh activation layer is the most common for RNN instead of the ReLU. The reason for this is that for long sequences, the ReLU layer suffers from the exploding gradient problem: the repeated multiplication with weights is acting like an exponentiation that\n",
        "makes it explode. The tanh activation layer does not have this problem, as the values are forced to stay between -1 and 1."
      ],
      "metadata": {
        "id": "9J0-Rp-6c95M"
      }
    },
    {
      "cell_type": "markdown",
      "source": [
        "#### 1 - Importing Data"
      ],
      "metadata": {
        "id": "OX1PDnbOttnL"
      }
    },
    {
      "cell_type": "markdown",
      "source": [
        "Data: Jena Climate dataset\n",
        "\n",
        "Period of Record: From 2009 to 2016\n",
        "\n",
        "Number of observations: 420551\n",
        "Number of variables: 2\n",
        "Variable name definitions:\n",
        "\n",
        "1.   date - sample date in YYMMDD hh:mm:ss format\n",
        "2.   co2 - CO2 Concentration in  ppmv\n",
        "\n",
        "\n",
        "The data returned by load_pandas contains the dates as the index.\n",
        "\n",
        "Source: https://storage.googleapis.com/tensorflow/tf-keras-datasets/jena_climate_2009_2016.csv.zip."
      ],
      "metadata": {
        "id": "d2H70B1y9tyO"
      }
    },
    {
      "cell_type": "code",
      "source": [
        "import keras\n",
        "import pandas as pd\n",
        "from zipfile import ZipFile\n",
        "import os\n",
        "uri = \"https://storage.googleapis.com/tensorflow/tf-keras-datasets/jena_climate_2009_2016.csv.zip\"\n",
        "zip_path = keras.utils.get_file(origin=uri, fname=\"jena_climate_2009_2016.csv.zip\")\n",
        "zip_file = ZipFile(zip_path)\n",
        "zip_file.extractall()\n",
        "csv_path = \"jena_climate_2009_2016.csv\"\n",
        "df = pd.read_csv(csv_path)\n",
        "del zip_file\n",
        "df = df.drop('Date Time', axis=1)\n",
        "cols = ['p', 'T', 'Tpot', 'Tdew', 'rh', 'VPmax', 'VPact', 'VPdef', 'sh',\n",
        "'H2OC', 'rho', 'wv', 'mwv', 'wd']\n",
        "df.columns = cols\n",
        "df.head()\n"
      ],
      "outputs": [
        {
          "output_type": "execute_result",
          "data": {
            "text/plain": [
              "        p     T    Tpot  Tdew    rh  VPmax  VPact  VPdef    sh  H2OC      rho  \\\n",
              "0  996.52 -8.02  265.40 -8.90  93.3   3.33   3.11   0.22  1.94  3.12  1307.75   \n",
              "1  996.57 -8.41  265.01 -9.28  93.4   3.23   3.02   0.21  1.89  3.03  1309.80   \n",
              "2  996.53 -8.51  264.91 -9.31  93.9   3.21   3.01   0.20  1.88  3.02  1310.24   \n",
              "3  996.51 -8.31  265.12 -9.07  94.2   3.26   3.07   0.19  1.92  3.08  1309.19   \n",
              "4  996.51 -8.27  265.15 -9.04  94.1   3.27   3.08   0.19  1.92  3.09  1309.00   \n",
              "\n",
              "     wv   mwv     wd  \n",
              "0  1.03  1.75  152.3  \n",
              "1  0.72  1.50  136.1  \n",
              "2  0.19  0.63  171.6  \n",
              "3  0.34  0.50  198.0  \n",
              "4  0.32  0.63  214.3  "
            ],
            "text/html": [
              "\n",
              "  <div id=\"df-76ec4afd-c80e-48f2-ba46-4848d6600455\" class=\"colab-df-container\">\n",
              "    <div>\n",
              "<style scoped>\n",
              "    .dataframe tbody tr th:only-of-type {\n",
              "        vertical-align: middle;\n",
              "    }\n",
              "\n",
              "    .dataframe tbody tr th {\n",
              "        vertical-align: top;\n",
              "    }\n",
              "\n",
              "    .dataframe thead th {\n",
              "        text-align: right;\n",
              "    }\n",
              "</style>\n",
              "<table border=\"1\" class=\"dataframe\">\n",
              "  <thead>\n",
              "    <tr style=\"text-align: right;\">\n",
              "      <th></th>\n",
              "      <th>p</th>\n",
              "      <th>T</th>\n",
              "      <th>Tpot</th>\n",
              "      <th>Tdew</th>\n",
              "      <th>rh</th>\n",
              "      <th>VPmax</th>\n",
              "      <th>VPact</th>\n",
              "      <th>VPdef</th>\n",
              "      <th>sh</th>\n",
              "      <th>H2OC</th>\n",
              "      <th>rho</th>\n",
              "      <th>wv</th>\n",
              "      <th>mwv</th>\n",
              "      <th>wd</th>\n",
              "    </tr>\n",
              "  </thead>\n",
              "  <tbody>\n",
              "    <tr>\n",
              "      <th>0</th>\n",
              "      <td>996.52</td>\n",
              "      <td>-8.02</td>\n",
              "      <td>265.40</td>\n",
              "      <td>-8.90</td>\n",
              "      <td>93.3</td>\n",
              "      <td>3.33</td>\n",
              "      <td>3.11</td>\n",
              "      <td>0.22</td>\n",
              "      <td>1.94</td>\n",
              "      <td>3.12</td>\n",
              "      <td>1307.75</td>\n",
              "      <td>1.03</td>\n",
              "      <td>1.75</td>\n",
              "      <td>152.3</td>\n",
              "    </tr>\n",
              "    <tr>\n",
              "      <th>1</th>\n",
              "      <td>996.57</td>\n",
              "      <td>-8.41</td>\n",
              "      <td>265.01</td>\n",
              "      <td>-9.28</td>\n",
              "      <td>93.4</td>\n",
              "      <td>3.23</td>\n",
              "      <td>3.02</td>\n",
              "      <td>0.21</td>\n",
              "      <td>1.89</td>\n",
              "      <td>3.03</td>\n",
              "      <td>1309.80</td>\n",
              "      <td>0.72</td>\n",
              "      <td>1.50</td>\n",
              "      <td>136.1</td>\n",
              "    </tr>\n",
              "    <tr>\n",
              "      <th>2</th>\n",
              "      <td>996.53</td>\n",
              "      <td>-8.51</td>\n",
              "      <td>264.91</td>\n",
              "      <td>-9.31</td>\n",
              "      <td>93.9</td>\n",
              "      <td>3.21</td>\n",
              "      <td>3.01</td>\n",
              "      <td>0.20</td>\n",
              "      <td>1.88</td>\n",
              "      <td>3.02</td>\n",
              "      <td>1310.24</td>\n",
              "      <td>0.19</td>\n",
              "      <td>0.63</td>\n",
              "      <td>171.6</td>\n",
              "    </tr>\n",
              "    <tr>\n",
              "      <th>3</th>\n",
              "      <td>996.51</td>\n",
              "      <td>-8.31</td>\n",
              "      <td>265.12</td>\n",
              "      <td>-9.07</td>\n",
              "      <td>94.2</td>\n",
              "      <td>3.26</td>\n",
              "      <td>3.07</td>\n",
              "      <td>0.19</td>\n",
              "      <td>1.92</td>\n",
              "      <td>3.08</td>\n",
              "      <td>1309.19</td>\n",
              "      <td>0.34</td>\n",
              "      <td>0.50</td>\n",
              "      <td>198.0</td>\n",
              "    </tr>\n",
              "    <tr>\n",
              "      <th>4</th>\n",
              "      <td>996.51</td>\n",
              "      <td>-8.27</td>\n",
              "      <td>265.15</td>\n",
              "      <td>-9.04</td>\n",
              "      <td>94.1</td>\n",
              "      <td>3.27</td>\n",
              "      <td>3.08</td>\n",
              "      <td>0.19</td>\n",
              "      <td>1.92</td>\n",
              "      <td>3.09</td>\n",
              "      <td>1309.00</td>\n",
              "      <td>0.32</td>\n",
              "      <td>0.63</td>\n",
              "      <td>214.3</td>\n",
              "    </tr>\n",
              "  </tbody>\n",
              "</table>\n",
              "</div>\n",
              "    <div class=\"colab-df-buttons\">\n",
              "\n",
              "  <div class=\"colab-df-container\">\n",
              "    <button class=\"colab-df-convert\" onclick=\"convertToInteractive('df-76ec4afd-c80e-48f2-ba46-4848d6600455')\"\n",
              "            title=\"Convert this dataframe to an interactive table.\"\n",
              "            style=\"display:none;\">\n",
              "\n",
              "  <svg xmlns=\"http://www.w3.org/2000/svg\" height=\"24px\" viewBox=\"0 -960 960 960\">\n",
              "    <path d=\"M120-120v-720h720v720H120Zm60-500h600v-160H180v160Zm220 220h160v-160H400v160Zm0 220h160v-160H400v160ZM180-400h160v-160H180v160Zm440 0h160v-160H620v160ZM180-180h160v-160H180v160Zm440 0h160v-160H620v160Z\"/>\n",
              "  </svg>\n",
              "    </button>\n",
              "\n",
              "  <style>\n",
              "    .colab-df-container {\n",
              "      display:flex;\n",
              "      gap: 12px;\n",
              "    }\n",
              "\n",
              "    .colab-df-convert {\n",
              "      background-color: #E8F0FE;\n",
              "      border: none;\n",
              "      border-radius: 50%;\n",
              "      cursor: pointer;\n",
              "      display: none;\n",
              "      fill: #1967D2;\n",
              "      height: 32px;\n",
              "      padding: 0 0 0 0;\n",
              "      width: 32px;\n",
              "    }\n",
              "\n",
              "    .colab-df-convert:hover {\n",
              "      background-color: #E2EBFA;\n",
              "      box-shadow: 0px 1px 2px rgba(60, 64, 67, 0.3), 0px 1px 3px 1px rgba(60, 64, 67, 0.15);\n",
              "      fill: #174EA6;\n",
              "    }\n",
              "\n",
              "    .colab-df-buttons div {\n",
              "      margin-bottom: 4px;\n",
              "    }\n",
              "\n",
              "    [theme=dark] .colab-df-convert {\n",
              "      background-color: #3B4455;\n",
              "      fill: #D2E3FC;\n",
              "    }\n",
              "\n",
              "    [theme=dark] .colab-df-convert:hover {\n",
              "      background-color: #434B5C;\n",
              "      box-shadow: 0px 1px 3px 1px rgba(0, 0, 0, 0.15);\n",
              "      filter: drop-shadow(0px 1px 2px rgba(0, 0, 0, 0.3));\n",
              "      fill: #FFFFFF;\n",
              "    }\n",
              "  </style>\n",
              "\n",
              "    <script>\n",
              "      const buttonEl =\n",
              "        document.querySelector('#df-76ec4afd-c80e-48f2-ba46-4848d6600455 button.colab-df-convert');\n",
              "      buttonEl.style.display =\n",
              "        google.colab.kernel.accessAllowed ? 'block' : 'none';\n",
              "\n",
              "      async function convertToInteractive(key) {\n",
              "        const element = document.querySelector('#df-76ec4afd-c80e-48f2-ba46-4848d6600455');\n",
              "        const dataTable =\n",
              "          await google.colab.kernel.invokeFunction('convertToInteractive',\n",
              "                                                    [key], {});\n",
              "        if (!dataTable) return;\n",
              "\n",
              "        const docLinkHtml = 'Like what you see? Visit the ' +\n",
              "          '<a target=\"_blank\" href=https://colab.research.google.com/notebooks/data_table.ipynb>data table notebook</a>'\n",
              "          + ' to learn more about interactive tables.';\n",
              "        element.innerHTML = '';\n",
              "        dataTable['output_type'] = 'display_data';\n",
              "        await google.colab.output.renderOutput(dataTable, element);\n",
              "        const docLink = document.createElement('div');\n",
              "        docLink.innerHTML = docLinkHtml;\n",
              "        element.appendChild(docLink);\n",
              "      }\n",
              "    </script>\n",
              "  </div>\n",
              "\n",
              "\n",
              "<div id=\"df-8cac13ad-1af3-4a80-b0ab-434b92fb376c\">\n",
              "  <button class=\"colab-df-quickchart\" onclick=\"quickchart('df-8cac13ad-1af3-4a80-b0ab-434b92fb376c')\"\n",
              "            title=\"Suggest charts\"\n",
              "            style=\"display:none;\">\n",
              "\n",
              "<svg xmlns=\"http://www.w3.org/2000/svg\" height=\"24px\"viewBox=\"0 0 24 24\"\n",
              "     width=\"24px\">\n",
              "    <g>\n",
              "        <path d=\"M19 3H5c-1.1 0-2 .9-2 2v14c0 1.1.9 2 2 2h14c1.1 0 2-.9 2-2V5c0-1.1-.9-2-2-2zM9 17H7v-7h2v7zm4 0h-2V7h2v10zm4 0h-2v-4h2v4z\"/>\n",
              "    </g>\n",
              "</svg>\n",
              "  </button>\n",
              "\n",
              "<style>\n",
              "  .colab-df-quickchart {\n",
              "      --bg-color: #E8F0FE;\n",
              "      --fill-color: #1967D2;\n",
              "      --hover-bg-color: #E2EBFA;\n",
              "      --hover-fill-color: #174EA6;\n",
              "      --disabled-fill-color: #AAA;\n",
              "      --disabled-bg-color: #DDD;\n",
              "  }\n",
              "\n",
              "  [theme=dark] .colab-df-quickchart {\n",
              "      --bg-color: #3B4455;\n",
              "      --fill-color: #D2E3FC;\n",
              "      --hover-bg-color: #434B5C;\n",
              "      --hover-fill-color: #FFFFFF;\n",
              "      --disabled-bg-color: #3B4455;\n",
              "      --disabled-fill-color: #666;\n",
              "  }\n",
              "\n",
              "  .colab-df-quickchart {\n",
              "    background-color: var(--bg-color);\n",
              "    border: none;\n",
              "    border-radius: 50%;\n",
              "    cursor: pointer;\n",
              "    display: none;\n",
              "    fill: var(--fill-color);\n",
              "    height: 32px;\n",
              "    padding: 0;\n",
              "    width: 32px;\n",
              "  }\n",
              "\n",
              "  .colab-df-quickchart:hover {\n",
              "    background-color: var(--hover-bg-color);\n",
              "    box-shadow: 0 1px 2px rgba(60, 64, 67, 0.3), 0 1px 3px 1px rgba(60, 64, 67, 0.15);\n",
              "    fill: var(--button-hover-fill-color);\n",
              "  }\n",
              "\n",
              "  .colab-df-quickchart-complete:disabled,\n",
              "  .colab-df-quickchart-complete:disabled:hover {\n",
              "    background-color: var(--disabled-bg-color);\n",
              "    fill: var(--disabled-fill-color);\n",
              "    box-shadow: none;\n",
              "  }\n",
              "\n",
              "  .colab-df-spinner {\n",
              "    border: 2px solid var(--fill-color);\n",
              "    border-color: transparent;\n",
              "    border-bottom-color: var(--fill-color);\n",
              "    animation:\n",
              "      spin 1s steps(1) infinite;\n",
              "  }\n",
              "\n",
              "  @keyframes spin {\n",
              "    0% {\n",
              "      border-color: transparent;\n",
              "      border-bottom-color: var(--fill-color);\n",
              "      border-left-color: var(--fill-color);\n",
              "    }\n",
              "    20% {\n",
              "      border-color: transparent;\n",
              "      border-left-color: var(--fill-color);\n",
              "      border-top-color: var(--fill-color);\n",
              "    }\n",
              "    30% {\n",
              "      border-color: transparent;\n",
              "      border-left-color: var(--fill-color);\n",
              "      border-top-color: var(--fill-color);\n",
              "      border-right-color: var(--fill-color);\n",
              "    }\n",
              "    40% {\n",
              "      border-color: transparent;\n",
              "      border-right-color: var(--fill-color);\n",
              "      border-top-color: var(--fill-color);\n",
              "    }\n",
              "    60% {\n",
              "      border-color: transparent;\n",
              "      border-right-color: var(--fill-color);\n",
              "    }\n",
              "    80% {\n",
              "      border-color: transparent;\n",
              "      border-right-color: var(--fill-color);\n",
              "      border-bottom-color: var(--fill-color);\n",
              "    }\n",
              "    90% {\n",
              "      border-color: transparent;\n",
              "      border-bottom-color: var(--fill-color);\n",
              "    }\n",
              "  }\n",
              "</style>\n",
              "\n",
              "  <script>\n",
              "    async function quickchart(key) {\n",
              "      const quickchartButtonEl =\n",
              "        document.querySelector('#' + key + ' button');\n",
              "      quickchartButtonEl.disabled = true;  // To prevent multiple clicks.\n",
              "      quickchartButtonEl.classList.add('colab-df-spinner');\n",
              "      try {\n",
              "        const charts = await google.colab.kernel.invokeFunction(\n",
              "            'suggestCharts', [key], {});\n",
              "      } catch (error) {\n",
              "        console.error('Error during call to suggestCharts:', error);\n",
              "      }\n",
              "      quickchartButtonEl.classList.remove('colab-df-spinner');\n",
              "      quickchartButtonEl.classList.add('colab-df-quickchart-complete');\n",
              "    }\n",
              "    (() => {\n",
              "      let quickchartButtonEl =\n",
              "        document.querySelector('#df-8cac13ad-1af3-4a80-b0ab-434b92fb376c button');\n",
              "      quickchartButtonEl.style.display =\n",
              "        google.colab.kernel.accessAllowed ? 'block' : 'none';\n",
              "    })();\n",
              "  </script>\n",
              "</div>\n",
              "    </div>\n",
              "  </div>\n"
            ],
            "application/vnd.google.colaboratory.intrinsic+json": {
              "type": "dataframe",
              "variable_name": "df"
            }
          },
          "metadata": {},
          "execution_count": 18
        }
      ],
      "execution_count": 18,
      "metadata": {
        "jupyter": {
          "source_hidden": false,
          "outputs_hidden": false
        },
        "nteract": {
          "transient": {
            "deleting": false
          }
        },
        "microsoft": {
          "language": "scala"
        },
        "id": "m2ctAuR0Z4wd",
        "colab": {
          "base_uri": "https://localhost:8080/",
          "height": 206
        },
        "outputId": "014e2871-e741-4cc4-fe6c-414190ba5e27"
      }
    },
    {
      "cell_type": "markdown",
      "source": [
        "#### 2 - Data Preparation - Scaling and creation of the Sequence Data"
      ],
      "metadata": {
        "id": "ZOmohHhgZMjG"
      }
    },
    {
      "cell_type": "markdown",
      "source": [
        "In this example, we’ll do a forecast of the temperature 12 hours later.\n",
        "Now what we did in the fully connected model was to create lagged variables. There was one y variable (which was not lagged), and the independent variables were lagged values of the y variable and a lot of other variables. The first lag was at 72 time steps, so that the model would use the data from 12 hours ago to predict the now.\n",
        "\n",
        "In the RNN, this is not what we should do, as the RNN learns sequences. A big jump of 72 time steps is not really respecting the sequential variation. Yet we do not just want to predict one time step later, as that would mean that we predict the temperature in 10 minutes from now. What we will do is create a matrix of y variables, with lags as well. Before, we wanted to predict one value 72 time steps into the future, but let’s model to predict each of those 72. This approach is called multistep forecasting.\n",
        "\n",
        "Other than that, for this model we will use only the temperature data and not the other variables (in order to simplify the sequences construction)."
      ],
      "metadata": {
        "id": "BmcZxCvGZSkN"
      }
    },
    {
      "cell_type": "code",
      "source": [
        "df = df[['T']] ## Keep only temperature data"
      ],
      "metadata": {
        "id": "gwI37q7FGenP"
      },
      "execution_count": 20,
      "outputs": []
    },
    {
      "cell_type": "markdown",
      "source": [
        "Next, we proceed with data standardization using the MinMaxScaler"
      ],
      "metadata": {
        "id": "N5YasQtdaCGG"
      }
    },
    {
      "cell_type": "code",
      "source": [
        "# apply a min max scaler\n",
        "from sklearn.preprocessing import MinMaxScaler\n",
        "scaler = MinMaxScaler()\n",
        "df = pd.DataFrame(scaler.fit_transform(df), columns = ['T'])"
      ],
      "metadata": {
        "id": "3PWOVTknGfx0"
      },
      "execution_count": 21,
      "outputs": []
    },
    {
      "cell_type": "markdown",
      "source": [
        "Then, we prepare the sequence data"
      ],
      "metadata": {
        "id": "EOJrz69YGm6f"
      }
    },
    {
      "cell_type": "code",
      "source": [
        "ylist = list(df['T'])\n",
        "n_future = 72\n",
        "n_past = 3*72\n",
        "total_period = 4*72\n",
        "\n",
        "idx_end = len(ylist)\n",
        "idx_start = idx_end - total_period\n",
        "X_new = []\n",
        "y_new = []\n",
        "while idx_start > 0:\n",
        "  x_line = ylist[idx_start:idx_start+n_past]\n",
        "  y_line = ylist[idx_start+n_past:idx_start+total_period]\n",
        "  X_new.append(x_line)\n",
        "  y_new.append(y_line)\n",
        "  idx_start = idx_start - 1\n",
        "\n",
        "# converting list of lists to numpy array\n",
        "import numpy as np\n",
        "X_new = np.array(X_new)\n",
        "y_new = np.array(y_new)"
      ],
      "outputs": [],
      "execution_count": 22,
      "metadata": {
        "jupyter": {
          "source_hidden": false,
          "outputs_hidden": false
        },
        "nteract": {
          "transient": {
            "deleting": false
          }
        },
        "id": "nF5jEFNcZ4wf"
      }
    },
    {
      "cell_type": "markdown",
      "source": [
        "#### 3 - Split into Train and Test sets and Data Reshape"
      ],
      "metadata": {
        "id": "mrJgwCi11k3I"
      }
    },
    {
      "cell_type": "markdown",
      "source": [
        "Now that we have obtained an X and a Y matrix for the model training, as always we need to split it into a train and test set in order to be able to do a fair model evaluation."
      ],
      "metadata": {
        "id": "nYqqzgSgLk6I"
      }
    },
    {
      "cell_type": "code",
      "source": [
        "from sklearn.model_selection import train_test_split\n",
        "X_train, X_test, y_train, y_test = train_test_split(X_new, y_new, test_size=0.33, random_state=42)"
      ],
      "metadata": {
        "id": "3V8utTDf1zZJ"
      },
      "execution_count": 26,
      "outputs": []
    },
    {
      "cell_type": "markdown",
      "source": [
        "A final step is necessary for fitting the SimpleRNN. The SimpleRNN layer needs\n",
        "an input format that is 3D, and the shape has to correspond to (n_samples, n_timesteps, n_features). This can be obtained using reshape. This reshape is, unfortunately, necessary sometimes when using Keras, as it is very specific as to the exact shape of the input data."
      ],
      "metadata": {
        "id": "kOatj3Zmat4Z"
      }
    },
    {
      "cell_type": "code",
      "source": [
        "batch_size = 32\n",
        "n_samples = X_train.shape[0]\n",
        "n_timesteps = X_train.shape[1]\n",
        "n_steps = y_train.shape[1]\n",
        "n_features = 1\n",
        "X_train_rs = X_train.reshape(n_samples, n_timesteps, n_features )\n",
        "X_test_rs = X_test.reshape(X_test.shape[0], n_timesteps, n_features )"
      ],
      "metadata": {
        "id": "Ap3EFC7qbICe"
      },
      "execution_count": 27,
      "outputs": []
    },
    {
      "cell_type": "markdown",
      "source": [
        "#### 4 - Simple RNN Neural Network Construction"
      ],
      "metadata": {
        "id": "x5XaEGqAMLBJ"
      }
    },
    {
      "cell_type": "markdown",
      "source": [
        "The SimpleRNN is a basic RNN cell that is represented by the following architecture:\n",
        "\n",
        "![image.png](data:image/png;base64,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)\n",
        "\n",
        "The overall architecture will look as follows:\n",
        "*   Activation Function: tanh\n",
        "*   Optimizer: Adam\n",
        "*   Learning rate: 0.001\n",
        "*   Batch size: 32 (reduce this if you don’t have enough RAM)\n",
        "*   Epochs: 5\n"
      ],
      "metadata": {
        "id": "4xUfll0GMp91"
      }
    },
    {
      "cell_type": "code",
      "source": [
        "import random\n",
        "random.seed(42)\n",
        "from tensorflow.keras.models import Sequential\n",
        "from tensorflow.keras.layers import Dense, SimpleRNN\n",
        "simple_model = Sequential([\n",
        "SimpleRNN(8, activation='tanh',input_shape=(n_timesteps, n_features)),\n",
        "Dense(y_train.shape[1]),\n",
        "])\n",
        "simple_model.summary()\n"
      ],
      "metadata": {
        "colab": {
          "base_uri": "https://localhost:8080/"
        },
        "id": "6dIxHtLGMi8A",
        "outputId": "b426b7ca-4074-4d83-c522-b9271b8d6fb1"
      },
      "execution_count": 28,
      "outputs": [
        {
          "output_type": "stream",
          "name": "stdout",
          "text": [
            "Model: \"sequential\"\n",
            "_________________________________________________________________\n",
            " Layer (type)                Output Shape              Param #   \n",
            "=================================================================\n",
            " simple_rnn (SimpleRNN)      (None, 8)                 80        \n",
            "                                                                 \n",
            " dense (Dense)               (None, 72)                648       \n",
            "                                                                 \n",
            "=================================================================\n",
            "Total params: 728 (2.84 KB)\n",
            "Trainable params: 728 (2.84 KB)\n",
            "Non-trainable params: 0 (0.00 Byte)\n",
            "_________________________________________________________________\n"
          ]
        }
      ]
    },
    {
      "cell_type": "markdown",
      "source": [
        "Compile the model"
      ],
      "metadata": {
        "id": "5wmMOMCXcxSl"
      }
    },
    {
      "cell_type": "code",
      "source": [
        "simple_model.compile(\n",
        "optimizer=keras.optimizers.Adam(learning_rate=0.001),\n",
        "loss='mean_absolute_error',\n",
        "metrics=['mean_absolute_error'],\n",
        ")"
      ],
      "metadata": {
        "id": "gKAZYPdqcy0I"
      },
      "execution_count": 29,
      "outputs": []
    },
    {
      "cell_type": "markdown",
      "source": [
        "Fit the model (this step can take long time to complete) and retrieve predictions. In this case, the result is not completeley reproducible due to the randomness"
      ],
      "metadata": {
        "id": "a-a3F2iKc5-t"
      }
    },
    {
      "cell_type": "code",
      "source": [
        "smod_history = simple_model.fit(X_train_rs, y_train,\n",
        "validation_split=0.2,\n",
        "epochs=5,\n",
        "batch_size=batch_size,\n",
        "shuffle = True\n",
        ")\n",
        "preds = simple_model.predict(X_test_rs)"
      ],
      "metadata": {
        "id": "v0oJbBMWc7x3",
        "outputId": "b61951ab-6ba1-46c2-b46c-982edd550dfa",
        "colab": {
          "base_uri": "https://localhost:8080/"
        }
      },
      "execution_count": 30,
      "outputs": [
        {
          "output_type": "stream",
          "name": "stdout",
          "text": [
            "Epoch 1/5\n",
            "7040/7040 [==============================] - 246s 35ms/step - loss: 0.0505 - mean_absolute_error: 0.0505 - val_loss: 0.0461 - val_mean_absolute_error: 0.0461\n",
            "Epoch 2/5\n",
            "7040/7040 [==============================] - 245s 35ms/step - loss: 0.0456 - mean_absolute_error: 0.0456 - val_loss: 0.0452 - val_mean_absolute_error: 0.0452\n",
            "Epoch 3/5\n",
            "7040/7040 [==============================] - 260s 37ms/step - loss: 0.0443 - mean_absolute_error: 0.0443 - val_loss: 0.0432 - val_mean_absolute_error: 0.0432\n",
            "Epoch 4/5\n",
            "7040/7040 [==============================] - 240s 34ms/step - loss: 0.0430 - mean_absolute_error: 0.0430 - val_loss: 0.0428 - val_mean_absolute_error: 0.0428\n",
            "Epoch 5/5\n",
            "7040/7040 [==============================] - 243s 35ms/step - loss: 0.0428 - mean_absolute_error: 0.0428 - val_loss: 0.0430 - val_mean_absolute_error: 0.0430\n",
            "4334/4334 [==============================] - 44s 10ms/step\n"
          ]
        }
      ]
    },
    {
      "cell_type": "markdown",
      "source": [
        "Plot the training history"
      ],
      "metadata": {
        "id": "xiSlrs5bdNIB"
      }
    },
    {
      "cell_type": "markdown",
      "source": [],
      "metadata": {
        "id": "_yZlt4eCkRKA"
      }
    },
    {
      "cell_type": "code",
      "source": [
        "import matplotlib.pyplot as plt\n",
        "plt.plot(smod_history.history['loss'])\n",
        "plt.plot(smod_history.history['val_loss'])\n",
        "plt.title('model loss')\n",
        "plt.xlabel('epoch')\n",
        "plt.legend(['train', 'val'], loc='upper left')\n",
        "plt.show()"
      ],
      "metadata": {
        "id": "6HKrkUIBdQ0o",
        "outputId": "b9d13c07-d22a-4efe-a08a-8bea82c9ca8c",
        "colab": {
          "base_uri": "https://localhost:8080/",
          "height": 472
        }
      },
      "execution_count": 31,
      "outputs": [
        {
          "output_type": "display_data",
          "data": {
            "text/plain": [
              "<Figure size 640x480 with 1 Axes>"
            ],
            "image/png": "[encoded data removed]"
          },
          "metadata": {}
        }
      ]
    },
    {
      "cell_type": "markdown",
      "source": [
        "#### 5 - Gated Recurrent Unit (GRU) Neural Network Construction"
      ],
      "metadata": {
        "id": "3Ul1WJ9fe48N"
      }
    },
    {
      "cell_type": "markdown",
      "source": [
        "\n",
        "GRU is a more advanced layer, where we have an extra parameter inside the cell which has to be extimated:\n",
        "\n",
        "![image.png](data:image/png;base64,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)\n",
        "\n",
        "Due to this difference, GRU obtains better general performances than the\n",
        "SimpleRNN, especially in the identification of long term trends."
      ],
      "metadata": {
        "id": "-4CVRFDkfAtj"
      }
    },
    {
      "cell_type": "code",
      "source": [
        "random.seed(42)\n",
        "from tensorflow.keras.layers import GRU\n",
        "simple_model = Sequential([\n",
        "GRU(8, activation='tanh',input_shape=(n_timesteps, n_features)),\n",
        "Dense(y_train.shape[1]),\n",
        "])\n",
        "simple_model.summary()"
      ],
      "metadata": {
        "id": "XQv3v1Agg64w",
        "outputId": "0bbc44ba-054d-452a-996a-d253ba8db1b5",
        "colab": {
          "base_uri": "https://localhost:8080/"
        }
      },
      "execution_count": 32,
      "outputs": [
        {
          "output_type": "stream",
          "name": "stdout",
          "text": [
            "Model: \"sequential_1\"\n",
            "_________________________________________________________________\n",
            " Layer (type)                Output Shape              Param #   \n",
            "=================================================================\n",
            " gru (GRU)                   (None, 8)                 264       \n",
            "                                                                 \n",
            " dense_1 (Dense)             (None, 72)                648       \n",
            "                                                                 \n",
            "=================================================================\n",
            "Total params: 912 (3.56 KB)\n",
            "Trainable params: 912 (3.56 KB)\n",
            "Non-trainable params: 0 (0.00 Byte)\n",
            "_________________________________________________________________\n"
          ]
        }
      ]
    },
    {
      "cell_type": "markdown",
      "source": [
        "Compile and fit the model"
      ],
      "metadata": {
        "id": "uV071czZhC8A"
      }
    },
    {
      "cell_type": "code",
      "source": [
        "simple_model.compile(\n",
        "optimizer=keras.optimizers.Adam(learning_rate=0.01),\n",
        "loss='mean_absolute_error',\n",
        "metrics=['mean_absolute_error'],\n",
        ")\n",
        "smod_history = simple_model.fit(X_train_rs, y_train,\n",
        "validation_split=0.2,epochs=10,\n",
        "batch_size=batch_size,\n",
        "shuffle = True\n",
        ")"
      ],
      "metadata": {
        "id": "st205DWHh5Of",
        "outputId": "d897a280-0e38-4c2f-a7f8-210d6eb07cb5",
        "colab": {
          "base_uri": "https://localhost:8080/"
        }
      },
      "execution_count": 34,
      "outputs": [
        {
          "output_type": "stream",
          "name": "stdout",
          "text": [
            "Epoch 1/5\n",
            "7040/7040 [==============================] - 488s 69ms/step - loss: 0.0338 - mean_absolute_error: 0.0338 - val_loss: 0.0283 - val_mean_absolute_error: 0.0283\n",
            "Epoch 2/5\n",
            "7040/7040 [==============================] - 450s 64ms/step - loss: 0.0282 - mean_absolute_error: 0.0282 - val_loss: 0.0287 - val_mean_absolute_error: 0.0287\n",
            "Epoch 3/5\n",
            "7040/7040 [==============================] - 449s 64ms/step - loss: 0.0279 - mean_absolute_error: 0.0279 - val_loss: 0.0289 - val_mean_absolute_error: 0.0289\n",
            "Epoch 4/5\n",
            "7040/7040 [==============================] - 473s 67ms/step - loss: 0.0276 - mean_absolute_error: 0.0276 - val_loss: 0.0278 - val_mean_absolute_error: 0.0278\n",
            "Epoch 5/5\n",
            "7040/7040 [==============================] - 462s 66ms/step - loss: 0.0374 - mean_absolute_error: 0.0374 - val_loss: 0.0383 - val_mean_absolute_error: 0.0383\n"
          ]
        }
      ]
    },
    {
      "cell_type": "markdown",
      "source": [
        "Plot the training history"
      ],
      "metadata": {
        "id": "2x8KPo_MkHDh"
      }
    },
    {
      "cell_type": "code",
      "source": [
        "from sklearn.metrics import r2_score\n",
        "preds = simple_model.predict(X_test_rs)\n",
        "print(r2_score(preds, y_test))\n",
        "plt.plot(smod_history.history['loss'])\n",
        "plt.plot(smod_history.history['val_loss'])\n",
        "plt.title('model loss')\n",
        "plt.xlabel('epoch')\n",
        "plt.legend(['train', 'val'], loc='upper left')\n",
        "plt.show()"
      ],
      "metadata": {
        "id": "qdbz9ndqkcIR",
        "outputId": "58e94da5-fbef-4911-f6a3-d18c690ccf98",
        "colab": {
          "base_uri": "https://localhost:8080/",
          "height": 507
        }
      },
      "execution_count": 35,
      "outputs": [
        {
          "output_type": "stream",
          "name": "stdout",
          "text": [
            "4334/4334 [==============================] - 58s 13ms/step\n",
            "0.8276155906918117\n"
          ]
        },
        {
          "output_type": "display_data",
          "data": {
            "text/plain": [
              "<Figure size 640x480 with 1 Axes>"
            ],
            "image/png": "[encoded data removed]"
          },
          "metadata": {}
        }
      ]
    }
  ],
  "metadata": {
    "kernelspec": {
      "name": "synapse_pyspark",
      "language": "Python",
      "display_name": "Synapse PySpark"
    },
    "language_info": {
      "name": "python"
    },
    "kernel_info": {
      "name": "synapse_pyspark"
    },
    "description": null,
    "save_output": true,
    "synapse_widget": {
      "version": "0.1",
      "state": {}
    },
    "colab": {
      "provenance": []
    }
  },
  "nbformat": 4,
  "nbformat_minor": 0
}