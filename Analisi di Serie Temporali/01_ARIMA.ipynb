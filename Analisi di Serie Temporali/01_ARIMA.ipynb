{
  "cells": [
    {
      "cell_type": "markdown",
      "metadata": {
        "id": "9EuzaOQns_-f"
      },
      "source": [
        "<a href=\"https://colab.research.google.com/github/ric4234/AI-Fridays/blob/main/Analisi%20di%20Serie%20Temporali/01_ARIMA.ipynb\" target=\"_parent\\\"><img src=\"https://colab.research.google.com/assets/colab-badge.svg\" alt=\"Open In Colab\"/></a>"
      ]
    },
    {
      "cell_type": "markdown",
      "source": [
        "## ARIMA Model\n",
        "\n",
        "The ARIMA model is short for the Autoregressive (AR), Integrated (I) Moving Average (MA) model.\n",
        "Specifically, The “I” in ARIMA is for integrating. Integrating is a mathematical synonym\n",
        "for differencing a non-stationary time series. In ARIMA, this differencing is not anymore\n",
        "done in advance of the modeling phase, but it is done during the model fit.\n",
        "\n",
        "The linear trend is a great example of this. More specifically, the values will not be stationary at all: they will\n",
        "augment (or diminish) infinitely. Yet the difference between each value and the next is constant, so the\n",
        "differenced time series is perfectly stationary.\n",
        "\n"
      ],
      "metadata": {
        "id": "9J0-Rp-6c95M"
      }
    },
    {
      "cell_type": "markdown",
      "source": [
        "#### 1 - Importing Data"
      ],
      "metadata": {
        "id": "OX1PDnbOttnL"
      }
    },
    {
      "cell_type": "code",
      "source": [
        "import statsmodels.api as sm\n",
        "data = sm.datasets.co2.load_pandas()\n",
        "data = data.data\n",
        "data.head()"
      ],
      "outputs": [
        {
          "output_type": "execute_result",
          "data": {
            "text/plain": [
              "              co2\n",
              "1958-03-29  316.1\n",
              "1958-04-05  317.3\n",
              "1958-04-12  317.6\n",
              "1958-04-19  317.5\n",
              "1958-04-26  316.4"
            ],
            "text/html": [
              "\n",
              "  <div id=\"df-36bd5c59-e5b6-49d3-a756-f0b99d49fc20\" class=\"colab-df-container\">\n",
              "    <div>\n",
              "<style scoped>\n",
              "    .dataframe tbody tr th:only-of-type {\n",
              "        vertical-align: middle;\n",
              "    }\n",
              "\n",
              "    .dataframe tbody tr th {\n",
              "        vertical-align: top;\n",
              "    }\n",
              "\n",
              "    .dataframe thead th {\n",
              "        text-align: right;\n",
              "    }\n",
              "</style>\n",
              "<table border=\"1\" class=\"dataframe\">\n",
              "  <thead>\n",
              "    <tr style=\"text-align: right;\">\n",
              "      <th></th>\n",
              "      <th>co2</th>\n",
              "    </tr>\n",
              "  </thead>\n",
              "  <tbody>\n",
              "    <tr>\n",
              "      <th>1958-03-29</th>\n",
              "      <td>316.1</td>\n",
              "    </tr>\n",
              "    <tr>\n",
              "      <th>1958-04-05</th>\n",
              "      <td>317.3</td>\n",
              "    </tr>\n",
              "    <tr>\n",
              "      <th>1958-04-12</th>\n",
              "      <td>317.6</td>\n",
              "    </tr>\n",
              "    <tr>\n",
              "      <th>1958-04-19</th>\n",
              "      <td>317.5</td>\n",
              "    </tr>\n",
              "    <tr>\n",
              "      <th>1958-04-26</th>\n",
              "      <td>316.4</td>\n",
              "    </tr>\n",
              "  </tbody>\n",
              "</table>\n",
              "</div>\n",
              "    <div class=\"colab-df-buttons\">\n",
              "\n",
              "  <div class=\"colab-df-container\">\n",
              "    <button class=\"colab-df-convert\" onclick=\"convertToInteractive('df-36bd5c59-e5b6-49d3-a756-f0b99d49fc20')\"\n",
              "            title=\"Convert this dataframe to an interactive table.\"\n",
              "            style=\"display:none;\">\n",
              "\n",
              "  <svg xmlns=\"http://www.w3.org/2000/svg\" height=\"24px\" viewBox=\"0 -960 960 960\">\n",
              "    <path d=\"M120-120v-720h720v720H120Zm60-500h600v-160H180v160Zm220 220h160v-160H400v160Zm0 220h160v-160H400v160ZM180-400h160v-160H180v160Zm440 0h160v-160H620v160ZM180-180h160v-160H180v160Zm440 0h160v-160H620v160Z\"/>\n",
              "  </svg>\n",
              "    </button>\n",
              "\n",
              "  <style>\n",
              "    .colab-df-container {\n",
              "      display:flex;\n",
              "      gap: 12px;\n",
              "    }\n",
              "\n",
              "    .colab-df-convert {\n",
              "      background-color: #E8F0FE;\n",
              "      border: none;\n",
              "      border-radius: 50%;\n",
              "      cursor: pointer;\n",
              "      display: none;\n",
              "      fill: #1967D2;\n",
              "      height: 32px;\n",
              "      padding: 0 0 0 0;\n",
              "      width: 32px;\n",
              "    }\n",
              "\n",
              "    .colab-df-convert:hover {\n",
              "      background-color: #E2EBFA;\n",
              "      box-shadow: 0px 1px 2px rgba(60, 64, 67, 0.3), 0px 1px 3px 1px rgba(60, 64, 67, 0.15);\n",
              "      fill: #174EA6;\n",
              "    }\n",
              "\n",
              "    .colab-df-buttons div {\n",
              "      margin-bottom: 4px;\n",
              "    }\n",
              "\n",
              "    [theme=dark] .colab-df-convert {\n",
              "      background-color: #3B4455;\n",
              "      fill: #D2E3FC;\n",
              "    }\n",
              "\n",
              "    [theme=dark] .colab-df-convert:hover {\n",
              "      background-color: #434B5C;\n",
              "      box-shadow: 0px 1px 3px 1px rgba(0, 0, 0, 0.15);\n",
              "      filter: drop-shadow(0px 1px 2px rgba(0, 0, 0, 0.3));\n",
              "      fill: #FFFFFF;\n",
              "    }\n",
              "  </style>\n",
              "\n",
              "    <script>\n",
              "      const buttonEl =\n",
              "        document.querySelector('#df-36bd5c59-e5b6-49d3-a756-f0b99d49fc20 button.colab-df-convert');\n",
              "      buttonEl.style.display =\n",
              "        google.colab.kernel.accessAllowed ? 'block' : 'none';\n",
              "\n",
              "      async function convertToInteractive(key) {\n",
              "        const element = document.querySelector('#df-36bd5c59-e5b6-49d3-a756-f0b99d49fc20');\n",
              "        const dataTable =\n",
              "          await google.colab.kernel.invokeFunction('convertToInteractive',\n",
              "                                                    [key], {});\n",
              "        if (!dataTable) return;\n",
              "\n",
              "        const docLinkHtml = 'Like what you see? Visit the ' +\n",
              "          '<a target=\"_blank\" href=https://colab.research.google.com/notebooks/data_table.ipynb>data table notebook</a>'\n",
              "          + ' to learn more about interactive tables.';\n",
              "        element.innerHTML = '';\n",
              "        dataTable['output_type'] = 'display_data';\n",
              "        await google.colab.output.renderOutput(dataTable, element);\n",
              "        const docLink = document.createElement('div');\n",
              "        docLink.innerHTML = docLinkHtml;\n",
              "        element.appendChild(docLink);\n",
              "      }\n",
              "    </script>\n",
              "  </div>\n",
              "\n",
              "\n",
              "<div id=\"df-9a1d7f31-95ae-469b-904b-d21d2d1b29d1\">\n",
              "  <button class=\"colab-df-quickchart\" onclick=\"quickchart('df-9a1d7f31-95ae-469b-904b-d21d2d1b29d1')\"\n",
              "            title=\"Suggest charts\"\n",
              "            style=\"display:none;\">\n",
              "\n",
              "<svg xmlns=\"http://www.w3.org/2000/svg\" height=\"24px\"viewBox=\"0 0 24 24\"\n",
              "     width=\"24px\">\n",
              "    <g>\n",
              "        <path d=\"M19 3H5c-1.1 0-2 .9-2 2v14c0 1.1.9 2 2 2h14c1.1 0 2-.9 2-2V5c0-1.1-.9-2-2-2zM9 17H7v-7h2v7zm4 0h-2V7h2v10zm4 0h-2v-4h2v4z\"/>\n",
              "    </g>\n",
              "</svg>\n",
              "  </button>\n",
              "\n",
              "<style>\n",
              "  .colab-df-quickchart {\n",
              "      --bg-color: #E8F0FE;\n",
              "      --fill-color: #1967D2;\n",
              "      --hover-bg-color: #E2EBFA;\n",
              "      --hover-fill-color: #174EA6;\n",
              "      --disabled-fill-color: #AAA;\n",
              "      --disabled-bg-color: #DDD;\n",
              "  }\n",
              "\n",
              "  [theme=dark] .colab-df-quickchart {\n",
              "      --bg-color: #3B4455;\n",
              "      --fill-color: #D2E3FC;\n",
              "      --hover-bg-color: #434B5C;\n",
              "      --hover-fill-color: #FFFFFF;\n",
              "      --disabled-bg-color: #3B4455;\n",
              "      --disabled-fill-color: #666;\n",
              "  }\n",
              "\n",
              "  .colab-df-quickchart {\n",
              "    background-color: var(--bg-color);\n",
              "    border: none;\n",
              "    border-radius: 50%;\n",
              "    cursor: pointer;\n",
              "    display: none;\n",
              "    fill: var(--fill-color);\n",
              "    height: 32px;\n",
              "    padding: 0;\n",
              "    width: 32px;\n",
              "  }\n",
              "\n",
              "  .colab-df-quickchart:hover {\n",
              "    background-color: var(--hover-bg-color);\n",
              "    box-shadow: 0 1px 2px rgba(60, 64, 67, 0.3), 0 1px 3px 1px rgba(60, 64, 67, 0.15);\n",
              "    fill: var(--button-hover-fill-color);\n",
              "  }\n",
              "\n",
              "  .colab-df-quickchart-complete:disabled,\n",
              "  .colab-df-quickchart-complete:disabled:hover {\n",
              "    background-color: var(--disabled-bg-color);\n",
              "    fill: var(--disabled-fill-color);\n",
              "    box-shadow: none;\n",
              "  }\n",
              "\n",
              "  .colab-df-spinner {\n",
              "    border: 2px solid var(--fill-color);\n",
              "    border-color: transparent;\n",
              "    border-bottom-color: var(--fill-color);\n",
              "    animation:\n",
              "      spin 1s steps(1) infinite;\n",
              "  }\n",
              "\n",
              "  @keyframes spin {\n",
              "    0% {\n",
              "      border-color: transparent;\n",
              "      border-bottom-color: var(--fill-color);\n",
              "      border-left-color: var(--fill-color);\n",
              "    }\n",
              "    20% {\n",
              "      border-color: transparent;\n",
              "      border-left-color: var(--fill-color);\n",
              "      border-top-color: var(--fill-color);\n",
              "    }\n",
              "    30% {\n",
              "      border-color: transparent;\n",
              "      border-left-color: var(--fill-color);\n",
              "      border-top-color: var(--fill-color);\n",
              "      border-right-color: var(--fill-color);\n",
              "    }\n",
              "    40% {\n",
              "      border-color: transparent;\n",
              "      border-right-color: var(--fill-color);\n",
              "      border-top-color: var(--fill-color);\n",
              "    }\n",
              "    60% {\n",
              "      border-color: transparent;\n",
              "      border-right-color: var(--fill-color);\n",
              "    }\n",
              "    80% {\n",
              "      border-color: transparent;\n",
              "      border-right-color: var(--fill-color);\n",
              "      border-bottom-color: var(--fill-color);\n",
              "    }\n",
              "    90% {\n",
              "      border-color: transparent;\n",
              "      border-bottom-color: var(--fill-color);\n",
              "    }\n",
              "  }\n",
              "</style>\n",
              "\n",
              "  <script>\n",
              "    async function quickchart(key) {\n",
              "      const quickchartButtonEl =\n",
              "        document.querySelector('#' + key + ' button');\n",
              "      quickchartButtonEl.disabled = true;  // To prevent multiple clicks.\n",
              "      quickchartButtonEl.classList.add('colab-df-spinner');\n",
              "      try {\n",
              "        const charts = await google.colab.kernel.invokeFunction(\n",
              "            'suggestCharts', [key], {});\n",
              "      } catch (error) {\n",
              "        console.error('Error during call to suggestCharts:', error);\n",
              "      }\n",
              "      quickchartButtonEl.classList.remove('colab-df-spinner');\n",
              "      quickchartButtonEl.classList.add('colab-df-quickchart-complete');\n",
              "    }\n",
              "    (() => {\n",
              "      let quickchartButtonEl =\n",
              "        document.querySelector('#df-9a1d7f31-95ae-469b-904b-d21d2d1b29d1 button');\n",
              "      quickchartButtonEl.style.display =\n",
              "        google.colab.kernel.accessAllowed ? 'block' : 'none';\n",
              "    })();\n",
              "  </script>\n",
              "</div>\n",
              "    </div>\n",
              "  </div>\n"
            ],
            "application/vnd.google.colaboratory.intrinsic+json": {
              "type": "dataframe",
              "variable_name": "data",
              "summary": "{\n  \"name\": \"data\",\n  \"rows\": 2284,\n  \"fields\": [\n    {\n      \"column\": \"co2\",\n      \"properties\": {\n        \"dtype\": \"number\",\n        \"std\": 17.003884828603397,\n        \"min\": 313.0,\n        \"max\": 373.9,\n        \"num_unique_values\": 581,\n        \"samples\": [\n          373.8,\n          342.9,\n          323.1\n        ],\n        \"semantic_type\": \"\",\n        \"description\": \"\"\n      }\n    }\n  ]\n}"
            }
          },
          "metadata": {},
          "execution_count": 4
        }
      ],
      "execution_count": 4,
      "metadata": {
        "jupyter": {
          "source_hidden": false,
          "outputs_hidden": false
        },
        "nteract": {
          "transient": {
            "deleting": false
          }
        },
        "microsoft": {
          "language": "scala"
        },
        "colab": {
          "base_uri": "https://localhost:8080/",
          "height": 206
        },
        "id": "m2ctAuR0Z4wd",
        "outputId": "d34d5862-0db2-46e7-da01-dfdccc8e0f1e"
      }
    },
    {
      "cell_type": "markdown",
      "source": [
        "**Creazione funzione di partizionamento**"
      ],
      "metadata": {
        "nteract": {
          "transient": {
            "deleting": false
          }
        },
        "id": "JVR04gy8Z4wf"
      }
    },
    {
      "cell_type": "markdown",
      "source": [
        "#### 2 - Plotting Data"
      ],
      "metadata": {
        "id": "xhNYYx5zuXYB"
      }
    },
    {
      "cell_type": "code",
      "source": [
        "import matplotlib.pyplot as plt\n",
        "ax = data.plot()\n",
        "ax.set_ylabel('CO2 level')\n",
        "plt.show()"
      ],
      "outputs": [
        {
          "output_type": "display_data",
          "data": {
            "text/plain": [
              "<Figure size 640x480 with 1 Axes>"
            ],
            "image/png": "[encoded data removed]"
          },
          "metadata": {}
        }
      ],
      "execution_count": 5,
      "metadata": {
        "jupyter": {
          "source_hidden": false,
          "outputs_hidden": false
        },
        "nteract": {
          "transient": {
            "deleting": false
          }
        },
        "colab": {
          "base_uri": "https://localhost:8080/",
          "height": 430
        },
        "id": "nF5jEFNcZ4wf",
        "outputId": "497309f5-1daf-4113-b825-9ba9c4310b69"
      }
    },
    {
      "cell_type": "markdown",
      "source": [
        "**Esecuzione del modello (parametri scelti da cross validazione)**"
      ],
      "metadata": {
        "nteract": {
          "transient": {
            "deleting": false
          }
        },
        "id": "87gCTAXfZ4wf"
      }
    },
    {
      "cell_type": "code",
      "source": [
        "from pyspark.sql.types import *\n",
        "from prophet import Prophet\n",
        "from prophet.make_holidays import make_holidays_df\n",
        "\n",
        "\n",
        "yearly_seasonality = unique_id_pd['yearly_seasonality'].iloc[0]\n",
        "yearly_seasonality_fourier_order = unique_id_pd['yearly_seasonality_fourier_order'].iloc[0]\n",
        "changepoint_prior_scale = unique_id_pd['changepoint_prior_scale'].iloc[0]\n",
        "seasonality_prior_scale = unique_id_pd['seasonality_prior_scale'].iloc[0]\n",
        "seasonality_mode = unique_id_pd['seasonality_mode'].iloc[0]\n",
        "forecast_horizon = unique_id_pd['forecast_horizon'].iloc[0]\n",
        "weekly_seasonality_fourier_order = unique_id_pd['weekly_seasonality_fourier_order'].iloc[0]\n",
        "\n",
        "model = Prophet(\n",
        "        #interval_width=0.85\n",
        "     # ,\n",
        "        yearly_seasonality= yearly_seasonality_fourier_order\n",
        "      , weekly_seasonality=weekly_seasonality_fourier_order\n",
        "      , changepoint_prior_scale = changepoint_prior_scale\n",
        "      , seasonality_prior_scale = seasonality_prior_scale\n",
        "      ,  seasonality_mode = seasonality_mode)\n",
        "\n",
        "model.add_country_holidays(country_name='IT')\n",
        "\n",
        "#model.add_seasonality(name='year', period=12, fourier_order = 10)\n",
        "model.fit( unique_id_pd )\n",
        "\n",
        "future_pd = model.make_future_dataframe(\n",
        "periods=forecast_horizon,\n",
        "freq='D',\n",
        "include_history=True\n",
        ")\n",
        "\n",
        "forecast_pd = model.predict( future_pd )\n",
        "\n",
        "f_pd = forecast_pd.set_index('ds')\n",
        "\n",
        "\n",
        "fig = model.plot(forecast_pd, xlabel='ds',\n",
        "ylabel=r'yhat')\n",
        "\n",
        "fig2 = model.plot_components(forecast_pd)\n",
        "fig2.show()\n",
        "\n",
        "print()"
      ],
      "outputs": [],
      "execution_count": null,
      "metadata": {
        "jupyter": {
          "source_hidden": false,
          "outputs_hidden": false
        },
        "nteract": {
          "transient": {
            "deleting": false
          }
        },
        "id": "dtTkKF_TZ4wg"
      }
    },
    {
      "cell_type": "markdown",
      "source": [
        "**Creazione vista temporanea sui risultati**"
      ],
      "metadata": {
        "nteract": {
          "transient": {
            "deleting": false
          }
        },
        "id": "rlsf-9vuZ4wg"
      }
    },
    {
      "cell_type": "markdown",
      "source": [
        "**Memorizzazione dati**"
      ],
      "metadata": {
        "nteract": {
          "transient": {
            "deleting": false
          }
        },
        "id": "jLE3dguEZ4wh"
      }
    },
    {
      "cell_type": "code",
      "source": [
        "# Comando SQL per selezionare il training set\n",
        "sql = 'select * from training_table_numero_spedizioni_daily_all_clienti order by unique_id, ds'\n",
        "\n",
        "# Parizionamento dei dati per la chiave univoca per creare esecuzioni parallele del modello\n",
        "unique_id_part = (spark.sql( sql ).repartition(spark.sparkContext.defaultParallelism, ['unique_id'])).cache()"
      ],
      "outputs": [],
      "execution_count": null,
      "metadata": {
        "jupyter": {
          "source_hidden": false,
          "outputs_hidden": false
        },
        "nteract": {
          "transient": {
            "deleting": false
          }
        },
        "id": "lst8kGDEZ4wh"
      }
    },
    {
      "cell_type": "code",
      "source": [
        "\n",
        "from pyspark.sql.types import *\n",
        "from prophet import Prophet\n",
        "from prophet.make_holidays import make_holidays_df\n",
        "\n",
        "result_schema =StructType([\n",
        "  StructField('ds',TimestampType()),\n",
        "  StructField('unique_id',IntegerType()),\n",
        "  #StructField('y',DoubleType()),\n",
        "  StructField('yhat',DoubleType()),\n",
        "  StructField('yhat_upper',DoubleType()),\n",
        "  StructField('yhat_lower',DoubleType())\n",
        "  ])\n",
        "\n",
        "\n",
        "# Creazione udf in modo che viene eseguita in parallelo per ogni serie\n",
        "\n",
        "from pyspark.sql.functions import pandas_udf, PandasUDFType\n",
        "\n",
        "@pandas_udf( result_schema, PandasUDFType.GROUPED_MAP )\n",
        "def forecast_sales( unique_id_pd ):\n",
        "\n",
        "  it_holidays = make_holidays_df(\n",
        "    year_list=[2021 + i for i in range(5)], country='IT'\n",
        "  )\n",
        "\n",
        "  yearly_seasonality = unique_id_pd['yearly_seasonality'].iloc[0]\n",
        "  yearly_seasonality_fourier_order = unique_id_pd['yearly_seasonality_fourier_order'].iloc[0]\n",
        "  changepoint_prior_scale = unique_id_pd['changepoint_prior_scale'].iloc[0]\n",
        "  seasonality_prior_scale = unique_id_pd['seasonality_prior_scale'].iloc[0]\n",
        "  seasonality_mode = unique_id_pd['seasonality_mode'].iloc[0]\n",
        "  forecast_horizon = unique_id_pd['forecast_horizon'].iloc[0]\n",
        "  weekly_seasonality_fourier_order = unique_id_pd['weekly_seasonality_fourier_order'].iloc[0]\n",
        "\n",
        "  model = Prophet(\n",
        "        interval_width=0.85\n",
        "      , yearly_seasonality= yearly_seasonality_fourier_order\n",
        "      , weekly_seasonality=weekly_seasonality_fourier_order\n",
        "      , changepoint_prior_scale = changepoint_prior_scale\n",
        "      , seasonality_prior_scale = seasonality_prior_scale\n",
        "      ,  seasonality_mode = seasonality_mode)\n",
        "\n",
        "  #if yearly_seasonality:\n",
        "    #model.add_seasonality(name='yearly', period=7 * 52, fourier_order = 10)\n",
        "\n",
        "  model.add_country_holidays(country_name='IT')\n",
        "\n",
        "\n",
        "  model.fit( unique_id_pd )\n",
        "\n",
        "  future_pd = model.make_future_dataframe(\n",
        "    periods=forecast_horizon,\n",
        "    freq='D',\n",
        "    include_history=False\n",
        "    )\n",
        "\n",
        "  forecast_pd = model.predict( future_pd )\n",
        "\n",
        "  f_pd = forecast_pd[ ['ds','yhat', 'yhat_upper', 'yhat_lower'] ].set_index('ds')\n",
        "\n",
        "  #st_pd = unique_id_pd[['ds','unique_id']].set_index('ds')\n",
        "\n",
        "  #results_pd = f_pd.join( st_pd, how='left' )\n",
        "  results_pd = f_pd\n",
        "  results_pd.reset_index(level=0, inplace=True)\n",
        "\n",
        "  results_pd['unique_id'] = unique_id_pd['unique_id'].iloc[0]\n",
        "\n",
        "  return results_pd[ ['ds', 'unique_id', 'yhat', 'yhat_upper', 'yhat_lower'] ]\n",
        "\n",
        "\n",
        "# forecasting\n",
        "results = (\n",
        "unique_id_part\n",
        ".groupBy('unique_id')\n",
        ".apply(forecast_sales))\n",
        "\n"
      ],
      "outputs": [],
      "execution_count": null,
      "metadata": {
        "jupyter": {
          "source_hidden": false,
          "outputs_hidden": false
        },
        "nteract": {
          "transient": {
            "deleting": false
          }
        },
        "id": "xdun1GdkZ4wh"
      }
    },
    {
      "cell_type": "code",
      "source": [
        "\n",
        "results.cache()\n",
        "\n",
        "results.createOrReplaceTempView(\"modello_forecast_spedizioni_numero_spedizioni_daily_all_clienti\")\n"
      ],
      "outputs": [],
      "execution_count": null,
      "metadata": {
        "jupyter": {
          "source_hidden": false,
          "outputs_hidden": false
        },
        "nteract": {
          "transient": {
            "deleting": false
          }
        },
        "id": "4j0x5s1BZ4wi"
      }
    },
    {
      "cell_type": "markdown",
      "source": [
        "**Popolamento tabella di output**"
      ],
      "metadata": {
        "nteract": {
          "transient": {
            "deleting": false
          }
        },
        "id": "D6DGiDdOZ4wi"
      }
    },
    {
      "cell_type": "code",
      "source": [
        "\n",
        "%%spark\n",
        "import org.apache.spark.sql.SqlAnalyticsConnector._\n",
        "import com.microsoft.spark.sqlanalytics.utils.Constants\n",
        "\n",
        "//val sql_pool_name = \"bi-we-prd1-synws.sql.azuresynapse.net\"\n",
        "val sql_pool_name = mssparkutils.env.getWorkspaceName()+\".sql.azuresynapse.net\"\n",
        "val db_name = \"bi_we_prd1_synws_sqlpool\"\n",
        "val schema_name = \"ml\"\n",
        "val table_name = \"fact_modello_forecast_spedizioni_numero_spedizioni_daily_all_clienti_stg\"\n",
        "\n",
        "// Scrittura nel SQL pool\n",
        "spark.sqlContext.sql(\"SELECT ds, cast(unique_id as int) as unique_id, cast(yhat as float) as y, cast(yhat_upper as float) as y_upper, cast(yhat_lower as float) as y_lower FROM modello_forecast_spedizioni_numero_spedizioni_daily_all_clienti\").write.mode(\"overwrite\").option(Constants.SERVER,s\"$sql_pool_name\").synapsesql(s\"$db_name.$schema_name.$table_name\" , Constants.INTERNAL)\n"
      ],
      "outputs": [],
      "execution_count": null,
      "metadata": {
        "jupyter": {
          "source_hidden": false,
          "outputs_hidden": false
        },
        "nteract": {
          "transient": {
            "deleting": false
          }
        },
        "microsoft": {
          "language": "scala"
        },
        "id": "6WWpSK3aZ4wi"
      }
    },
    {
      "cell_type": "markdown",
      "source": [],
      "metadata": {
        "nteract": {
          "transient": {
            "deleting": false
          }
        },
        "id": "Y2xMrJHkZ4wj"
      }
    }
  ],
  "metadata": {
    "kernelspec": {
      "name": "synapse_pyspark",
      "language": "Python",
      "display_name": "Synapse PySpark"
    },
    "language_info": {
      "name": "python"
    },
    "kernel_info": {
      "name": "synapse_pyspark"
    },
    "description": null,
    "save_output": true,
    "synapse_widget": {
      "version": "0.1",
      "state": {}
    },
    "colab": {
      "provenance": []
    }
  },
  "nbformat": 4,
  "nbformat_minor": 0
}