{
  "cells": [
    {
      "cell_type": "markdown",
      "metadata": {
        "id": "9EuzaOQns_-f"
      },
      "source": [
        "<a href=\"https://colab.research.google.com/github/ric4234/AI-Fridays/blob/main/Analisi%20Di%20Testi/05_Text_Generation.ipynb\" target=\"_parent\\\"><img src=\"https://colab.research.google.com/assets/colab-badge.svg\" alt=\"Open In Colab\"/></a>"
      ]
    },
    {
      "cell_type": "markdown",
      "source": [
        "## Text Generation\n",
        "\n",
        "\n",
        "\n"
      ],
      "metadata": {
        "id": "9J0-Rp-6c95M"
      }
    },
    {
      "cell_type": "markdown",
      "source": [
        "Sentence Embedding measures how close are different sentences. Sentence simularity is useful for information retrieval, clustering or grouping.\n",
        "Sentence Embedding convert input text into vectors, which are called embeddings. This embeddings caputure semantic information, so that the similarity between two sentences becomes the similarity between two vectors\n",
        "\n",
        "\n",
        "\n"
      ],
      "metadata": {
        "id": "X5vwStcT6KPo"
      }
    },
    {
      "cell_type": "markdown",
      "source": [
        "#### 1 - Install dependencies and create utils functions"
      ],
      "metadata": {
        "id": "bpDLN98uAMzV"
      }
    },
    {
      "cell_type": "markdown",
      "source": [
        "Firstly, we make sure to install all the needed libraries"
      ],
      "metadata": {
        "id": "JMFrOUcb62Iv"
      }
    },
    {
      "cell_type": "code",
      "source": [
        "import matplotlib.pyplot as plt\n",
        "import numpy as np\n",
        "import time\n",
        "import torch\n",
        "from transformers import AutoModelForCausalLM, AutoTokenizer"
      ],
      "metadata": {
        "id": "ZVOMcYmyrr6M"
      },
      "execution_count": 1,
      "outputs": []
    },
    {
      "cell_type": "markdown",
      "source": [
        "Suppress warning messages"
      ],
      "metadata": {
        "id": "420baWnu5FuI"
      }
    },
    {
      "cell_type": "code",
      "source": [
        "from transformers.utils import logging\n",
        "logging.set_verbosity_error()"
      ],
      "metadata": {
        "id": "3JS6A6DA5EiS"
      },
      "execution_count": 2,
      "outputs": []
    },
    {
      "cell_type": "markdown",
      "source": [
        "#### 2 - Build and use a Text Generation Model\n",
        "\n",
        "At this point, we load the Gtp 2 model from Huggingface. We use GPT 2 because is a small model and it is faster to run than other models.\n",
        "GPT 2 is a decoder only model, is doesn't have an encoder. We directly pass the input to an embedding and then we apply repea series of blocks, specifically an At"
      ],
      "metadata": {
        "id": "mSgViB5Y8w5s"
      }
    },
    {
      "cell_type": "code",
      "source": [
        "model_name = \"gpt2\"\n",
        "tokenizer = AutoTokenizer.from_pretrained(model_name)\n",
        "model = AutoModelForCausalLM.from_pretrained(model_name)\n",
        "model"
      ],
      "metadata": {
        "id": "pv-8QzoKtOii",
        "outputId": "c53ae15b-d53f-405e-880b-88630a14c5c2",
        "colab": {
          "base_uri": "https://localhost:8080/"
        }
      },
      "execution_count": 4,
      "outputs": [
        {
          "output_type": "execute_result",
          "data": {
            "text/plain": [
              "GPT2LMHeadModel(\n",
              "  (transformer): GPT2Model(\n",
              "    (wte): Embedding(50257, 768)\n",
              "    (wpe): Embedding(1024, 768)\n",
              "    (drop): Dropout(p=0.1, inplace=False)\n",
              "    (h): ModuleList(\n",
              "      (0-11): 12 x GPT2Block(\n",
              "        (ln_1): LayerNorm((768,), eps=1e-05, elementwise_affine=True)\n",
              "        (attn): GPT2Attention(\n",
              "          (c_attn): Conv1D()\n",
              "          (c_proj): Conv1D()\n",
              "          (attn_dropout): Dropout(p=0.1, inplace=False)\n",
              "          (resid_dropout): Dropout(p=0.1, inplace=False)\n",
              "        )\n",
              "        (ln_2): LayerNorm((768,), eps=1e-05, elementwise_affine=True)\n",
              "        (mlp): GPT2MLP(\n",
              "          (c_fc): Conv1D()\n",
              "          (c_proj): Conv1D()\n",
              "          (act): NewGELUActivation()\n",
              "          (dropout): Dropout(p=0.1, inplace=False)\n",
              "        )\n",
              "      )\n",
              "    )\n",
              "    (ln_f): LayerNorm((768,), eps=1e-05, elementwise_affine=True)\n",
              "  )\n",
              "  (lm_head): Linear(in_features=768, out_features=50257, bias=False)\n",
              ")"
            ]
          },
          "metadata": {},
          "execution_count": 4
        }
      ]
    },
    {
      "cell_type": "markdown",
      "source": [
        "Create the input and pass it to the tokenizer. We will create an input object composed by two tensors: one is the input_ids tensor, which are the mapping of particular chunks of the text, and the attention mask, which is at the moment a series of 1 with the same lenght of the input_ids tensor"
      ],
      "metadata": {
        "id": "l1ycgGf4aDkZ"
      }
    },
    {
      "cell_type": "code",
      "source": [
        "prompt = \"The quick brown fox jumped over the\"\n",
        "inputs = tokenizer(prompt, return_tensors=\"pt\")\n",
        "inputs"
      ],
      "metadata": {
        "id": "2I8jPHgYZ_fx",
        "outputId": "666eac2a-dff4-45f0-eeba-42e552481e45",
        "colab": {
          "base_uri": "https://localhost:8080/"
        }
      },
      "execution_count": 22,
      "outputs": [
        {
          "output_type": "execute_result",
          "data": {
            "text/plain": [
              "{'input_ids': tensor([[  464,  2068,  7586, 21831, 11687,   625,   262]]), 'attention_mask': tensor([[1, 1, 1, 1, 1, 1, 1]])}"
            ]
          },
          "metadata": {},
          "execution_count": 22
        }
      ]
    },
    {
      "cell_type": "markdown",
      "source": [
        "Then, we pass the inputs to the model"
      ],
      "metadata": {
        "id": "GATjO88Xq_1P"
      }
    },
    {
      "cell_type": "code",
      "source": [
        "with torch.no_grad():\n",
        "    outputs = model(**inputs)\n",
        "\n",
        "logits = outputs.logits\n",
        "print(logits.shape) # 1 is the batch size, 7 is the sequence lenght, and 50257 is the vocabulary size (how many possibile tokens we might generate from the output)"
      ],
      "metadata": {
        "id": "huM_f0xIp5xo",
        "outputId": "fbfb0ecd-54a6-4b2a-9a53-67aecda39b04",
        "colab": {
          "base_uri": "https://localhost:8080/"
        }
      },
      "execution_count": 23,
      "outputs": [
        {
          "output_type": "stream",
          "name": "stdout",
          "text": [
            "torch.Size([1, 7, 50257])\n"
          ]
        }
      ]
    },
    {
      "cell_type": "markdown",
      "source": [
        "Then, we determine which of those 50257 we want to use. To do that, we take the first row of the logit tensor (which is the only one given the batch size of 1), and then specifically take all the elements of the last sequence and of that subset we take the index which has the maximum value"
      ],
      "metadata": {
        "id": "ddssxfgor0XD"
      }
    },
    {
      "cell_type": "code",
      "source": [
        "last_logits = logits[0, -1, :]\n",
        "print(last_logits)\n",
        "next_token_id = last_logits.argmax()\n",
        "next_token_id"
      ],
      "metadata": {
        "id": "C8JA9Nkcrm-w",
        "outputId": "8c3b7912-c943-43c7-d7a9-192b0e90e979",
        "colab": {
          "base_uri": "https://localhost:8080/"
        }
      },
      "execution_count": 24,
      "outputs": [
        {
          "output_type": "stream",
          "name": "stdout",
          "text": [
            "tensor([-92.9353, -92.3160, -96.0634,  ..., -95.3960, -96.1433, -94.6932])\n"
          ]
        },
        {
          "output_type": "execute_result",
          "data": {
            "text/plain": [
              "tensor(13990)"
            ]
          },
          "metadata": {},
          "execution_count": 24
        }
      ]
    },
    {
      "cell_type": "markdown",
      "source": [
        "Use the tokenizer to decode the string"
      ],
      "metadata": {
        "id": "LOcIUhRytEA1"
      }
    },
    {
      "cell_type": "code",
      "source": [
        "tokenizer.decode(next_token_id)"
      ],
      "metadata": {
        "id": "K__3ReA2tGhR",
        "outputId": "48aff439-ab69-4f4d-f85e-d2d58800f297",
        "colab": {
          "base_uri": "https://localhost:8080/",
          "height": 36
        }
      },
      "execution_count": 25,
      "outputs": [
        {
          "output_type": "execute_result",
          "data": {
            "text/plain": [
              "' fence'"
            ],
            "application/vnd.google.colaboratory.intrinsic+json": {
              "type": "string"
            }
          },
          "metadata": {},
          "execution_count": 25
        }
      ]
    },
    {
      "cell_type": "markdown",
      "source": [
        "Instead of the top 1 we could look at the top 10 of the most likely tokens"
      ],
      "metadata": {
        "id": "agLd7tMjtOff"
      }
    },
    {
      "cell_type": "code",
      "source": [
        "top_k = torch.topk(last_logits, k=10)\n",
        "tokens = [tokenizer.decode(tk) for tk in top_k.indices]\n",
        "tokens"
      ],
      "metadata": {
        "id": "QSHO6ZiItTp_",
        "outputId": "64e44d76-9cda-411b-a1ac-09729aaa262f",
        "colab": {
          "base_uri": "https://localhost:8080/"
        }
      },
      "execution_count": 26,
      "outputs": [
        {
          "output_type": "execute_result",
          "data": {
            "text/plain": [
              "[' fence',\n",
              " ' edge',\n",
              " ' railing',\n",
              " ' wall',\n",
              " ' table',\n",
              " ' tree',\n",
              " ' top',\n",
              " ' counter',\n",
              " ' ground',\n",
              " ' side']"
            ]
          },
          "metadata": {},
          "execution_count": 26
        }
      ]
    },
    {
      "cell_type": "markdown",
      "source": [
        "Concatenate the input and most likely tokens"
      ],
      "metadata": {
        "id": "MuOw4iEgtdZn"
      }
    },
    {
      "cell_type": "code",
      "source": [
        "next_inputs = {\n",
        "    \"input_ids\": torch.cat(\n",
        "        [inputs[\"input_ids\"], next_token_id.reshape((1, 1))],\n",
        "        dim=1\n",
        "    ),\n",
        "    \"attention_mask\": torch.cat(\n",
        "        [inputs[\"attention_mask\"], torch.tensor([[1]])],\n",
        "        dim=1\n",
        "    ),\n",
        "}\n",
        "\n",
        "print(next_inputs[\"input_ids\"],\n",
        "      next_inputs[\"input_ids\"].shape)\n",
        "print(next_inputs[\"attention_mask\"],\n",
        "      next_inputs[\"attention_mask\"].shape)"
      ],
      "metadata": {
        "id": "CBUttwUuth0a",
        "outputId": "0265a28a-ae33-4d67-929a-f5ae56368856",
        "colab": {
          "base_uri": "https://localhost:8080/"
        }
      },
      "execution_count": 13,
      "outputs": [
        {
          "output_type": "stream",
          "name": "stdout",
          "text": [
            "tensor([[  464,  2068,  7586, 21831, 11687,   625,   262, 13990]]) torch.Size([1, 8])\n",
            "tensor([[1, 1, 1, 1, 1, 1, 1, 1]]) torch.Size([1, 8])\n"
          ]
        }
      ]
    },
    {
      "cell_type": "code",
      "source": [
        "def generate_token_with_past(inputs):\n",
        "    with torch.no_grad():\n",
        "        outputs = model(**inputs)\n",
        "\n",
        "    logits = outputs.logits\n",
        "    last_logits = logits[0, -1, :]\n",
        "    next_token_id = last_logits.argmax()\n",
        "    return next_token_id, outputs.past_key_values"
      ],
      "metadata": {
        "id": "L41bvMqXubGO"
      },
      "execution_count": 27,
      "outputs": []
    },
    {
      "cell_type": "code",
      "source": [
        "generated_tokens = []\n",
        "next_inputs = inputs\n",
        "durations_cached_s = []\n",
        "for _ in range(10):\n",
        "    t0 = time.time()\n",
        "    next_token_id, past_key_values = \\\n",
        "        generate_token_with_past(next_inputs)\n",
        "    durations_cached_s += [time.time() - t0]\n",
        "\n",
        "    next_inputs = {\n",
        "        \"input_ids\": next_token_id.reshape((1, 1)),\n",
        "        \"attention_mask\": torch.cat(\n",
        "            [next_inputs[\"attention_mask\"], torch.tensor([[1]])],\n",
        "            dim=1),\n",
        "        \"past_key_values\": past_key_values,\n",
        "    }\n",
        "\n",
        "    next_token = tokenizer.decode(next_token_id)\n",
        "    generated_tokens.append(next_token)\n",
        "\n",
        "print(f\"{sum(durations_cached_s)} s\")\n",
        "print(generated_tokens)"
      ],
      "metadata": {
        "id": "BHrKiUPXuhNn",
        "outputId": "bcdcb2d5-af25-450c-93fe-a1346d6b83db",
        "colab": {
          "base_uri": "https://localhost:8080/"
        }
      },
      "execution_count": 32,
      "outputs": [
        {
          "output_type": "stream",
          "name": "stdout",
          "text": [
            "0.7180473804473877 s\n",
            "[' fence', ' and', ' ran', ' to', ' the', ' other', ' side', ' of', ' the', ' fence']\n"
          ]
        }
      ]
    },
    {
      "cell_type": "code",
      "source": [
        "\n",
        "plt.plot(durations_cached_s)\n",
        "plt.show()"
      ],
      "metadata": {
        "id": "CLXzdXPRu-by",
        "outputId": "10635e7f-cb9c-4c26-e5d2-75cba4b0a09c",
        "colab": {
          "base_uri": "https://localhost:8080/",
          "height": 430
        }
      },
      "execution_count": 33,
      "outputs": [
        {
          "output_type": "display_data",
          "data": {
            "text/plain": [
              "<Figure size 640x480 with 1 Axes>"
            ],
            "image/png": "[encoded data removed]"
          },
          "metadata": {}
        }
      ]
    }
  ],
  "metadata": {
    "kernelspec": {
      "name": "synapse_pyspark",
      "language": "Python",
      "display_name": "Synapse PySpark"
    },
    "language_info": {
      "name": "python"
    },
    "kernel_info": {
      "name": "synapse_pyspark"
    },
    "description": null,
    "save_output": true,
    "synapse_widget": {
      "version": "0.1",
      "state": {}
    },
    "colab": {
      "provenance": []
    }
  },
  "nbformat": 4,
  "nbformat_minor": 0
}