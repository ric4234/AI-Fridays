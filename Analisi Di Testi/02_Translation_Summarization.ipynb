{
  "cells": [
    {
      "cell_type": "markdown",
      "metadata": {
        "id": "9EuzaOQns_-f"
      },
      "source": [
        "<a href=\"https://colab.research.google.com/github/ric4234/AI-Fridays/blob/main/Analisi%20Di%20Testi/02_Translation_Summarization.ipynb\" target=\"_parent\\\"><img src=\"https://colab.research.google.com/assets/colab-badge.svg\" alt=\"Open In Colab\"/></a>"
      ]
    },
    {
      "cell_type": "markdown",
      "source": [
        "## Translation and Summarization\n",
        "\n",
        "\n",
        "\n"
      ],
      "metadata": {
        "id": "9J0-Rp-6c95M"
      }
    },
    {
      "cell_type": "markdown",
      "source": [
        "The goal of this exercise is to use a model to translate text into different languages and a model to summarize a text.\n",
        "\n",
        "\n",
        "\n"
      ],
      "metadata": {
        "id": "X5vwStcT6KPo"
      }
    },
    {
      "cell_type": "markdown",
      "source": [
        "#### 1 - Install dependencies and create utils functions"
      ],
      "metadata": {
        "id": "bpDLN98uAMzV"
      }
    },
    {
      "cell_type": "markdown",
      "source": [
        "Firstly, we make sure to install all the needed libraries"
      ],
      "metadata": {
        "id": "JMFrOUcb62Iv"
      }
    },
    {
      "cell_type": "code",
      "source": [
        "!pip install transformers\n",
        "!pip install torch"
      ],
      "metadata": {
        "id": "ZVOMcYmyrr6M"
      },
      "execution_count": null,
      "outputs": []
    },
    {
      "cell_type": "markdown",
      "source": [
        "Suppress warning messages"
      ],
      "metadata": {
        "id": "420baWnu5FuI"
      }
    },
    {
      "cell_type": "code",
      "source": [
        "from transformers.utils import logging\n",
        "logging.set_verbosity_error()"
      ],
      "metadata": {
        "id": "3JS6A6DA5EiS"
      },
      "execution_count": 3,
      "outputs": []
    },
    {
      "cell_type": "markdown",
      "source": [
        "#### 2 - Build and use a translation pipeline\n",
        "\n",
        "At this point, we create a tranlation pipeline pipeline using bnllb-200-distilled-600M model from facebook (https://huggingface.co/facebook/nllb-200-distilled-600M). We decided to use this model because it is very small (only 600M parameters) and because it can translate text into over 190 different languages.\n",
        "You can find also a lot of other model from Huggingface hub filtering models by Translation type (https://huggingface.co/models?pipeline_tag=translation&sort=trending)"
      ],
      "metadata": {
        "id": "mSgViB5Y8w5s"
      }
    },
    {
      "cell_type": "code",
      "source": [
        "from transformers import pipeline\n",
        "import torch\n",
        "translator = pipeline(task=\"translation\",\n",
        "                      model=\"facebook/nllb-200-distilled-600M\",\n",
        "                      torch_dtype=torch.bfloat16) # This parameter compress the model without any performance degradation"
      ],
      "metadata": {
        "id": "pv-8QzoKtOii"
      },
      "execution_count": null,
      "outputs": []
    },
    {
      "cell_type": "markdown",
      "source": [
        "Now that the translator is loaded let's pass the user message"
      ],
      "metadata": {
        "id": "a0GDpmas_YsO"
      }
    },
    {
      "cell_type": "code",
      "source": [
        "text = \"\"\"\\\n",
        "My puppy is adorable, \\\n",
        "Your kitten is cute.\n",
        "Her panda is friendly.\n",
        "His llama is thoughtful. \\\n",
        "We all have nice pets!\"\"\""
      ],
      "metadata": {
        "id": "NudbNWiYwRBm"
      },
      "execution_count": 8,
      "outputs": []
    },
    {
      "cell_type": "markdown",
      "source": [
        "To choose other languages, you can find the other language codes on this page: https://github.com/facebookresearch/flores/blob/main/flores200/README.md#languages-in-flores-200"
      ],
      "metadata": {
        "id": "aUNmbIjQ7YYj"
      }
    },
    {
      "cell_type": "code",
      "source": [
        "text_translated = translator(text,\n",
        "                             src_lang=\"eng_Latn\",\n",
        "                             tgt_lang=\"lij_Latn\")\n",
        "text_translated"
      ],
      "metadata": {
        "id": "Jjup1QnHtbUn"
      },
      "execution_count": null,
      "outputs": []
    },
    {
      "cell_type": "markdown",
      "source": [
        "#### 3 - Build and use a summarization pipeline"
      ],
      "metadata": {
        "id": "ZI4D67Rzehmj"
      }
    },
    {
      "cell_type": "markdown",
      "source": [
        "In the following code we will build a summarization pipeline using bart-large-cnn model (https://huggingface.co/facebook/bart-large-cnn).\n",
        "\n",
        "As usual, you can find other models that perform this task via the Hugginface Models section: https://huggingface.co/models?pipeline_tag=summarization"
      ],
      "metadata": {
        "id": "cl9zlMnwezHG"
      }
    },
    {
      "cell_type": "code",
      "source": [
        "summarizer = pipeline(task=\"summarization\",\n",
        "                      model=\"facebook/bart-large-cnn\",\n",
        "                      torch_dtype=torch.bfloat16)"
      ],
      "metadata": {
        "id": "LtSIex2Pfj6H"
      },
      "execution_count": null,
      "outputs": []
    },
    {
      "cell_type": "code",
      "source": [
        "text = \"\"\"Paris is the capital and most populous city of France, with\n",
        "          an estimated population of 2,175,601 residents as of 2018,\n",
        "          in an area of more than 105 square kilometres (41 square\n",
        "          miles). The City of Paris is the centre and seat of\n",
        "          government of the region and province of Île-de-France, or\n",
        "          Paris Region, which has an estimated population of\n",
        "          12,174,880, or about 18 percent of the population of France\n",
        "          as of 2017.\"\"\""
      ],
      "metadata": {
        "id": "d8gmfy57f1p5"
      },
      "execution_count": 22,
      "outputs": []
    },
    {
      "cell_type": "code",
      "source": [
        "summary = summarizer(text,\n",
        "                     min_length=10,\n",
        "                     max_length=100)\n",
        "summary"
      ],
      "metadata": {
        "id": "LIHpvKU5f4sg",
        "outputId": "c267ae46-1da0-4841-d3a8-3b4469d1a6aa",
        "colab": {
          "base_uri": "https://localhost:8080/"
        }
      },
      "execution_count": 24,
      "outputs": [
        {
          "output_type": "execute_result",
          "data": {
            "text/plain": [
              "[{'summary_text': 'Paris is the capital and most populous city of France, with an estimated population of 2,175,601 residents as of 2018. The City of Paris is the centre and seat of the government of the region and province of Île-de-France.'}]"
            ]
          },
          "metadata": {},
          "execution_count": 24
        }
      ]
    }
  ],
  "metadata": {
    "kernelspec": {
      "name": "synapse_pyspark",
      "language": "Python",
      "display_name": "Synapse PySpark"
    },
    "language_info": {
      "name": "python"
    },
    "kernel_info": {
      "name": "synapse_pyspark"
    },
    "description": null,
    "save_output": true,
    "synapse_widget": {
      "version": "0.1",
      "state": {}
    },
    "colab": {
      "provenance": []
    }
  },
  "nbformat": 4,
  "nbformat_minor": 0
}
